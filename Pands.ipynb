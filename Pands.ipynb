{
  "metadata": {
    "language_info": {
      "codemirror_mode": {
        "name": "python",
        "version": 3
      },
      "file_extension": ".py",
      "mimetype": "text/x-python",
      "name": "python",
      "nbconvert_exporter": "python",
      "pygments_lexer": "ipython3",
      "version": "3.8"
    },
    "kernelspec": {
      "name": "python",
      "display_name": "Python (Pyodide)",
      "language": "python"
    }
  },
  "nbformat_minor": 4,
  "nbformat": 4,
  "cells": [
    {
      "cell_type": "code",
      "source": "#Pandas 1\nimport pandas as pd",
      "metadata": {
        "trusted": true
      },
      "execution_count": 1,
      "outputs": []
    },
    {
      "cell_type": "code",
      "source": "import numpy as np",
      "metadata": {
        "trusted": true
      },
      "execution_count": 2,
      "outputs": []
    },
    {
      "cell_type": "code",
      "source": "g7_pop = pd.Series([49, 43, 65, 40, 160])",
      "metadata": {
        "trusted": true
      },
      "execution_count": 3,
      "outputs": []
    },
    {
      "cell_type": "code",
      "source": "g7_pop",
      "metadata": {
        "trusted": true
      },
      "execution_count": 4,
      "outputs": [
        {
          "execution_count": 4,
          "output_type": "execute_result",
          "data": {
            "text/plain": "0     49\n1     43\n2     65\n3     40\n4    160\ndtype: int64"
          },
          "metadata": {}
        }
      ]
    },
    {
      "cell_type": "code",
      "source": "g7_pop.name = \"Pokemon Savunma Güçleri\"",
      "metadata": {
        "trusted": true
      },
      "execution_count": 5,
      "outputs": []
    },
    {
      "cell_type": "code",
      "source": "g7_pop",
      "metadata": {
        "trusted": true
      },
      "execution_count": 6,
      "outputs": [
        {
          "execution_count": 6,
          "output_type": "execute_result",
          "data": {
            "text/plain": "0     49\n1     43\n2     65\n3     40\n4    160\nName: Pokemon Savunma Güçleri, dtype: int64"
          },
          "metadata": {}
        }
      ]
    },
    {
      "cell_type": "code",
      "source": "g7_pop.index",
      "metadata": {
        "trusted": true
      },
      "execution_count": 7,
      "outputs": [
        {
          "execution_count": 7,
          "output_type": "execute_result",
          "data": {
            "text/plain": "RangeIndex(start=0, stop=5, step=1)"
          },
          "metadata": {}
        }
      ]
    },
    {
      "cell_type": "code",
      "source": "g7_pop.index = [\"Bulbasaur\", \"Charmander\", \"Squirtle\", \"Pikachu\", \"Onix\"]",
      "metadata": {
        "trusted": true
      },
      "execution_count": 9,
      "outputs": []
    },
    {
      "cell_type": "code",
      "source": "g7_pop",
      "metadata": {
        "trusted": true
      },
      "execution_count": 10,
      "outputs": [
        {
          "execution_count": 10,
          "output_type": "execute_result",
          "data": {
            "text/plain": "Bulbasaur      49\nCharmander     43\nSquirtle       65\nPikachu        40\nOnix          160\nName: Pokemon Savunma Güçleri, dtype: int64"
          },
          "metadata": {}
        }
      ]
    },
    {
      "cell_type": "code",
      "source": "g7_pop[\"Pikachu\"] # Ad ile ulaşma",
      "metadata": {
        "trusted": true
      },
      "execution_count": 11,
      "outputs": [
        {
          "execution_count": 11,
          "output_type": "execute_result",
          "data": {
            "text/plain": "40"
          },
          "metadata": {}
        }
      ]
    },
    {
      "cell_type": "code",
      "source": "g7_pop[0] # indexleme ile ulaşma",
      "metadata": {
        "trusted": true
      },
      "execution_count": 12,
      "outputs": [
        {
          "execution_count": 12,
          "output_type": "execute_result",
          "data": {
            "text/plain": "49"
          },
          "metadata": {}
        }
      ]
    },
    {
      "cell_type": "code",
      "source": "g7_pop.iloc[0] #indexleme ile ulaşma",
      "metadata": {
        "trusted": true
      },
      "execution_count": 13,
      "outputs": [
        {
          "execution_count": 13,
          "output_type": "execute_result",
          "data": {
            "text/plain": "49"
          },
          "metadata": {}
        }
      ]
    },
    {
      "cell_type": "code",
      "source": "g7_pop[[\"Charmander\",\"Onix\"]] #  Birden fazla olabilir",
      "metadata": {
        "trusted": true
      },
      "execution_count": 14,
      "outputs": [
        {
          "execution_count": 14,
          "output_type": "execute_result",
          "data": {
            "text/plain": "Charmander     43\nOnix          160\nName: Pokemon Savunma Güçleri, dtype: int64"
          },
          "metadata": {}
        }
      ]
    },
    {
      "cell_type": "code",
      "source": "g7_pop[[1,4]] #  Birden fazla olabilir",
      "metadata": {
        "trusted": true
      },
      "execution_count": 15,
      "outputs": [
        {
          "execution_count": 15,
          "output_type": "execute_result",
          "data": {
            "text/plain": "Charmander     43\nOnix          160\nName: Pokemon Savunma Güçleri, dtype: int64"
          },
          "metadata": {}
        }
      ]
    },
    {
      "cell_type": "code",
      "source": "g7_pop[\"Charmander\":\"Pikachu\"] # Başlangıç ve bitiş noktaları verilerekte bu işlem gerçekleştirilebilmektedir.",
      "metadata": {
        "trusted": true
      },
      "execution_count": 17,
      "outputs": [
        {
          "execution_count": 17,
          "output_type": "execute_result",
          "data": {
            "text/plain": "Charmander    43\nSquirtle      65\nPikachu       40\nName: Pokemon Savunma Güçleri, dtype: int64"
          },
          "metadata": {}
        }
      ]
    },
    {
      "cell_type": "code",
      "source": "g7_pop > 45 # Koşul belirtilebilmektedir",
      "metadata": {
        "trusted": true
      },
      "execution_count": 18,
      "outputs": [
        {
          "execution_count": 18,
          "output_type": "execute_result",
          "data": {
            "text/plain": "Bulbasaur      True\nCharmander    False\nSquirtle       True\nPikachu       False\nOnix           True\nName: Pokemon Savunma Güçleri, dtype: bool"
          },
          "metadata": {}
        }
      ]
    },
    {
      "cell_type": "code",
      "source": "g7_pop[g7_pop > 45] # Değerleri göstererekte yapılabilmektedir",
      "metadata": {
        "trusted": true
      },
      "execution_count": 19,
      "outputs": [
        {
          "execution_count": 19,
          "output_type": "execute_result",
          "data": {
            "text/plain": "Bulbasaur     49\nSquirtle      65\nOnix         160\nName: Pokemon Savunma Güçleri, dtype: int64"
          },
          "metadata": {}
        }
      ]
    },
    {
      "cell_type": "code",
      "source": "g7_pop.mean() # standart sapmasıda alınabilemktedir",
      "metadata": {
        "trusted": true
      },
      "execution_count": 20,
      "outputs": [
        {
          "execution_count": 20,
          "output_type": "execute_result",
          "data": {
            "text/plain": "71.4"
          },
          "metadata": {}
        }
      ]
    },
    {
      "cell_type": "code",
      "source": "g7_pop[g7_pop > g7_pop.mean() ] # Standart sapmasından büyük olan değerlere ulaşılması sağlanmaktadır",
      "metadata": {
        "trusted": true
      },
      "execution_count": 21,
      "outputs": [
        {
          "execution_count": 21,
          "output_type": "execute_result",
          "data": {
            "text/plain": "Onix    160\nName: Pokemon Savunma Güçleri, dtype: int64"
          },
          "metadata": {}
        }
      ]
    },
    {
      "cell_type": "code",
      "source": "g7_pop[(g7_pop > 45) & (g7_pop < 100)] # Birden fazla koşulda verilebilinmektedir.",
      "metadata": {
        "trusted": true
      },
      "execution_count": 22,
      "outputs": [
        {
          "execution_count": 22,
          "output_type": "execute_result",
          "data": {
            "text/plain": "Bulbasaur    49\nSquirtle     65\nName: Pokemon Savunma Güçleri, dtype: int64"
          },
          "metadata": {}
        }
      ]
    },
    {
      "cell_type": "code",
      "source": "g7_pop[\"Pikachu\"] = 70 # değeri değiştirebilinmektedir",
      "metadata": {
        "trusted": true
      },
      "execution_count": 23,
      "outputs": []
    },
    {
      "cell_type": "code",
      "source": "g7_pop[\"Pikachu\"]",
      "metadata": {
        "trusted": true
      },
      "execution_count": 24,
      "outputs": [
        {
          "execution_count": 24,
          "output_type": "execute_result",
          "data": {
            "text/plain": "70"
          },
          "metadata": {}
        }
      ]
    },
    {
      "cell_type": "code",
      "source": "g7_pop[g7_pop > 50] = 50 # değeri 50 den büyük olanları 50 yap",
      "metadata": {
        "trusted": true
      },
      "execution_count": 25,
      "outputs": []
    },
    {
      "cell_type": "code",
      "source": "g7_pop",
      "metadata": {
        "trusted": true
      },
      "execution_count": 26,
      "outputs": [
        {
          "execution_count": 26,
          "output_type": "execute_result",
          "data": {
            "text/plain": "Bulbasaur     49\nCharmander    43\nSquirtle      50\nPikachu       50\nOnix          50\nName: Pokemon Savunma Güçleri, dtype: int64"
          },
          "metadata": {}
        }
      ]
    },
    {
      "cell_type": "code",
      "source": "sg7_pop = pd.Series({\n    'Bulbasaur': 49, \n    'Charmander': 43, \n    'Squirtle': 65, \n    'Pikachu': 40, \n    'Onix': 160\n    }, name=\"Pokemon Savunma Güçleri\")",
      "metadata": {
        "trusted": true
      },
      "execution_count": 27,
      "outputs": []
    },
    {
      "cell_type": "code",
      "source": "#Pandas 2",
      "metadata": {
        "trusted": true
      },
      "execution_count": 28,
      "outputs": []
    },
    {
      "cell_type": "code",
      "source": "pokemon = pd.DataFrame({ # Dataframe dir verileri tablo şeklinde tutulamasını sağlamaktadır.\n    'atak': [49, 52, 48, 55, 45],\n    'savunma': [49, 43, 65, 40, 160],\n     'hız': [45, 65, 43, 90, 70],\n     'tür': ['ot', 'ateş', 'su', 'elektrik', 'kaya']\n    }, index=[\"Bulbasaur\", \"Charmander\", \"Squirtle\", \"Pikachu\", \"Onix\"])",
      "metadata": {
        "trusted": true
      },
      "execution_count": 87,
      "outputs": []
    },
    {
      "cell_type": "code",
      "source": "pokemon",
      "metadata": {
        "trusted": true
      },
      "execution_count": 30,
      "outputs": [
        {
          "execution_count": 30,
          "output_type": "execute_result",
          "data": {
            "text/plain": "            atak  savunma  hız       tür\nBulbasaur     49       49   45        ot\nCharmander    52       43   65      ateş\nSquirtle      48       65   43        su\nPikachu       55       40   90  elektrik\nOnix          45      160   70      kaya",
            "text/html": "<div>\n<style scoped>\n    .dataframe tbody tr th:only-of-type {\n        vertical-align: middle;\n    }\n\n    .dataframe tbody tr th {\n        vertical-align: top;\n    }\n\n    .dataframe thead th {\n        text-align: right;\n    }\n</style>\n<table border=\"1\" class=\"dataframe\">\n  <thead>\n    <tr style=\"text-align: right;\">\n      <th></th>\n      <th>atak</th>\n      <th>savunma</th>\n      <th>hız</th>\n      <th>tür</th>\n    </tr>\n  </thead>\n  <tbody>\n    <tr>\n      <th>Bulbasaur</th>\n      <td>49</td>\n      <td>49</td>\n      <td>45</td>\n      <td>ot</td>\n    </tr>\n    <tr>\n      <th>Charmander</th>\n      <td>52</td>\n      <td>43</td>\n      <td>65</td>\n      <td>ateş</td>\n    </tr>\n    <tr>\n      <th>Squirtle</th>\n      <td>48</td>\n      <td>65</td>\n      <td>43</td>\n      <td>su</td>\n    </tr>\n    <tr>\n      <th>Pikachu</th>\n      <td>55</td>\n      <td>40</td>\n      <td>90</td>\n      <td>elektrik</td>\n    </tr>\n    <tr>\n      <th>Onix</th>\n      <td>45</td>\n      <td>160</td>\n      <td>70</td>\n      <td>kaya</td>\n    </tr>\n  </tbody>\n</table>\n</div>"
          },
          "metadata": {}
        }
      ]
    },
    {
      "cell_type": "code",
      "source": "pokemon.columns # Sütünlara ulaşmak için kullanılmaktadır.",
      "metadata": {
        "trusted": true
      },
      "execution_count": 31,
      "outputs": [
        {
          "execution_count": 31,
          "output_type": "execute_result",
          "data": {
            "text/plain": "Index(['atak', 'savunma', 'hız', 'tür'], dtype='object')"
          },
          "metadata": {}
        }
      ]
    },
    {
      "cell_type": "code",
      "source": "pokemon.info() # Tablo hakkında bilgiye ulaşılmasını sağlamaktadır.",
      "metadata": {
        "trusted": true
      },
      "execution_count": 32,
      "outputs": [
        {
          "name": "stdout",
          "text": "<class 'pandas.core.frame.DataFrame'>\nIndex: 5 entries, Bulbasaur to Onix\nData columns (total 4 columns):\n #   Column   Non-Null Count  Dtype \n---  ------   --------------  ----- \n 0   atak     5 non-null      int64 \n 1   savunma  5 non-null      int64 \n 2   hız      5 non-null      int64 \n 3   tür      5 non-null      object\ndtypes: int64(3), object(1)\nmemory usage: 160.0+ bytes\n",
          "output_type": "stream"
        }
      ]
    },
    {
      "cell_type": "code",
      "source": "pokemon.size # Toplam değer sayısı",
      "metadata": {
        "trusted": true
      },
      "execution_count": 33,
      "outputs": [
        {
          "execution_count": 33,
          "output_type": "execute_result",
          "data": {
            "text/plain": "20"
          },
          "metadata": {}
        }
      ]
    },
    {
      "cell_type": "code",
      "source": "pokemon.shape # satır sütün sayısı",
      "metadata": {
        "trusted": true
      },
      "execution_count": 34,
      "outputs": [
        {
          "execution_count": 34,
          "output_type": "execute_result",
          "data": {
            "text/plain": "(5, 4)"
          },
          "metadata": {}
        }
      ]
    },
    {
      "cell_type": "code",
      "source": "pokemon.describe() # ortlama std sapma gib değerleri yazdırmaya yaramaktadır.",
      "metadata": {
        "trusted": true
      },
      "execution_count": 36,
      "outputs": [
        {
          "execution_count": 36,
          "output_type": "execute_result",
          "data": {
            "text/plain": "            atak     savunma        hız\ncount   5.000000    5.000000   5.000000\nmean   49.800000   71.400000  62.600000\nstd     3.834058   50.460876  19.398454\nmin    45.000000   40.000000  43.000000\n25%    48.000000   43.000000  45.000000\n50%    49.000000   49.000000  65.000000\n75%    52.000000   65.000000  70.000000\nmax    55.000000  160.000000  90.000000",
            "text/html": "<div>\n<style scoped>\n    .dataframe tbody tr th:only-of-type {\n        vertical-align: middle;\n    }\n\n    .dataframe tbody tr th {\n        vertical-align: top;\n    }\n\n    .dataframe thead th {\n        text-align: right;\n    }\n</style>\n<table border=\"1\" class=\"dataframe\">\n  <thead>\n    <tr style=\"text-align: right;\">\n      <th></th>\n      <th>atak</th>\n      <th>savunma</th>\n      <th>hız</th>\n    </tr>\n  </thead>\n  <tbody>\n    <tr>\n      <th>count</th>\n      <td>5.000000</td>\n      <td>5.000000</td>\n      <td>5.000000</td>\n    </tr>\n    <tr>\n      <th>mean</th>\n      <td>49.800000</td>\n      <td>71.400000</td>\n      <td>62.600000</td>\n    </tr>\n    <tr>\n      <th>std</th>\n      <td>3.834058</td>\n      <td>50.460876</td>\n      <td>19.398454</td>\n    </tr>\n    <tr>\n      <th>min</th>\n      <td>45.000000</td>\n      <td>40.000000</td>\n      <td>43.000000</td>\n    </tr>\n    <tr>\n      <th>25%</th>\n      <td>48.000000</td>\n      <td>43.000000</td>\n      <td>45.000000</td>\n    </tr>\n    <tr>\n      <th>50%</th>\n      <td>49.000000</td>\n      <td>49.000000</td>\n      <td>65.000000</td>\n    </tr>\n    <tr>\n      <th>75%</th>\n      <td>52.000000</td>\n      <td>65.000000</td>\n      <td>70.000000</td>\n    </tr>\n    <tr>\n      <th>max</th>\n      <td>55.000000</td>\n      <td>160.000000</td>\n      <td>90.000000</td>\n    </tr>\n  </tbody>\n</table>\n</div>"
          },
          "metadata": {}
        }
      ]
    },
    {
      "cell_type": "code",
      "source": "pokemon[\"hız\"]",
      "metadata": {
        "trusted": true
      },
      "execution_count": 37,
      "outputs": [
        {
          "execution_count": 37,
          "output_type": "execute_result",
          "data": {
            "text/plain": "Bulbasaur     45\nCharmander    65\nSquirtle      43\nPikachu       90\nOnix          70\nName: hız, dtype: int64"
          },
          "metadata": {}
        }
      ]
    },
    {
      "cell_type": "code",
      "source": "pokemon.iloc[1] # indexleme ile tüm değerleri alabilemekteyiz",
      "metadata": {
        "trusted": true
      },
      "execution_count": 39,
      "outputs": [
        {
          "execution_count": 39,
          "output_type": "execute_result",
          "data": {
            "text/plain": "atak         52\nsavunma      43\nhız          65\ntür        ateş\nName: Charmander, dtype: object"
          },
          "metadata": {}
        }
      ]
    },
    {
      "cell_type": "code",
      "source": "pokemon.loc[\"Onix\"]",
      "metadata": {
        "trusted": true
      },
      "execution_count": 40,
      "outputs": [
        {
          "execution_count": 40,
          "output_type": "execute_result",
          "data": {
            "text/plain": "atak         45\nsavunma     160\nhız          70\ntür        kaya\nName: Onix, dtype: object"
          },
          "metadata": {}
        }
      ]
    },
    {
      "cell_type": "code",
      "source": "pokemon.loc[[\"Onix\",\"Bulbasaur\"]]",
      "metadata": {
        "trusted": true
      },
      "execution_count": 42,
      "outputs": [
        {
          "execution_count": 42,
          "output_type": "execute_result",
          "data": {
            "text/plain": "           atak  savunma  hız   tür\nOnix         45      160   70  kaya\nBulbasaur    49       49   45    ot",
            "text/html": "<div>\n<style scoped>\n    .dataframe tbody tr th:only-of-type {\n        vertical-align: middle;\n    }\n\n    .dataframe tbody tr th {\n        vertical-align: top;\n    }\n\n    .dataframe thead th {\n        text-align: right;\n    }\n</style>\n<table border=\"1\" class=\"dataframe\">\n  <thead>\n    <tr style=\"text-align: right;\">\n      <th></th>\n      <th>atak</th>\n      <th>savunma</th>\n      <th>hız</th>\n      <th>tür</th>\n    </tr>\n  </thead>\n  <tbody>\n    <tr>\n      <th>Onix</th>\n      <td>45</td>\n      <td>160</td>\n      <td>70</td>\n      <td>kaya</td>\n    </tr>\n    <tr>\n      <th>Bulbasaur</th>\n      <td>49</td>\n      <td>49</td>\n      <td>45</td>\n      <td>ot</td>\n    </tr>\n  </tbody>\n</table>\n</div>"
          },
          "metadata": {}
        }
      ]
    },
    {
      "cell_type": "code",
      "source": "pokemon.loc[\"Charmander\":\"Onix\"]",
      "metadata": {
        "trusted": true
      },
      "execution_count": 43,
      "outputs": [
        {
          "execution_count": 43,
          "output_type": "execute_result",
          "data": {
            "text/plain": "            atak  savunma  hız       tür\nCharmander    52       43   65      ateş\nSquirtle      48       65   43        su\nPikachu       55       40   90  elektrik\nOnix          45      160   70      kaya",
            "text/html": "<div>\n<style scoped>\n    .dataframe tbody tr th:only-of-type {\n        vertical-align: middle;\n    }\n\n    .dataframe tbody tr th {\n        vertical-align: top;\n    }\n\n    .dataframe thead th {\n        text-align: right;\n    }\n</style>\n<table border=\"1\" class=\"dataframe\">\n  <thead>\n    <tr style=\"text-align: right;\">\n      <th></th>\n      <th>atak</th>\n      <th>savunma</th>\n      <th>hız</th>\n      <th>tür</th>\n    </tr>\n  </thead>\n  <tbody>\n    <tr>\n      <th>Charmander</th>\n      <td>52</td>\n      <td>43</td>\n      <td>65</td>\n      <td>ateş</td>\n    </tr>\n    <tr>\n      <th>Squirtle</th>\n      <td>48</td>\n      <td>65</td>\n      <td>43</td>\n      <td>su</td>\n    </tr>\n    <tr>\n      <th>Pikachu</th>\n      <td>55</td>\n      <td>40</td>\n      <td>90</td>\n      <td>elektrik</td>\n    </tr>\n    <tr>\n      <th>Onix</th>\n      <td>45</td>\n      <td>160</td>\n      <td>70</td>\n      <td>kaya</td>\n    </tr>\n  </tbody>\n</table>\n</div>"
          },
          "metadata": {}
        }
      ]
    },
    {
      "cell_type": "code",
      "source": "# Pandas 3",
      "metadata": {
        "trusted": true
      },
      "execution_count": 44,
      "outputs": []
    },
    {
      "cell_type": "code",
      "source": "pokemon",
      "metadata": {
        "trusted": true
      },
      "execution_count": 45,
      "outputs": [
        {
          "execution_count": 45,
          "output_type": "execute_result",
          "data": {
            "text/plain": "            atak  savunma  hız       tür\nBulbasaur     49       49   45        ot\nCharmander    52       43   65      ateş\nSquirtle      48       65   43        su\nPikachu       55       40   90  elektrik\nOnix          45      160   70      kaya",
            "text/html": "<div>\n<style scoped>\n    .dataframe tbody tr th:only-of-type {\n        vertical-align: middle;\n    }\n\n    .dataframe tbody tr th {\n        vertical-align: top;\n    }\n\n    .dataframe thead th {\n        text-align: right;\n    }\n</style>\n<table border=\"1\" class=\"dataframe\">\n  <thead>\n    <tr style=\"text-align: right;\">\n      <th></th>\n      <th>atak</th>\n      <th>savunma</th>\n      <th>hız</th>\n      <th>tür</th>\n    </tr>\n  </thead>\n  <tbody>\n    <tr>\n      <th>Bulbasaur</th>\n      <td>49</td>\n      <td>49</td>\n      <td>45</td>\n      <td>ot</td>\n    </tr>\n    <tr>\n      <th>Charmander</th>\n      <td>52</td>\n      <td>43</td>\n      <td>65</td>\n      <td>ateş</td>\n    </tr>\n    <tr>\n      <th>Squirtle</th>\n      <td>48</td>\n      <td>65</td>\n      <td>43</td>\n      <td>su</td>\n    </tr>\n    <tr>\n      <th>Pikachu</th>\n      <td>55</td>\n      <td>40</td>\n      <td>90</td>\n      <td>elektrik</td>\n    </tr>\n    <tr>\n      <th>Onix</th>\n      <td>45</td>\n      <td>160</td>\n      <td>70</td>\n      <td>kaya</td>\n    </tr>\n  </tbody>\n</table>\n</div>"
          },
          "metadata": {}
        }
      ]
    },
    {
      "cell_type": "code",
      "source": "pokemon[\"hız\"] > 60 # Hızı 60 dan büyük olanalanların getirilmesini sağlamaktadır",
      "metadata": {
        "trusted": true
      },
      "execution_count": 46,
      "outputs": [
        {
          "execution_count": 46,
          "output_type": "execute_result",
          "data": {
            "text/plain": "Bulbasaur     False\nCharmander     True\nSquirtle      False\nPikachu        True\nOnix           True\nName: hız, dtype: bool"
          },
          "metadata": {}
        }
      ]
    },
    {
      "cell_type": "code",
      "source": "pokemon.loc[pokemon[\"hız\"]>60]",
      "metadata": {
        "trusted": true
      },
      "execution_count": 52,
      "outputs": [
        {
          "execution_count": 52,
          "output_type": "execute_result",
          "data": {
            "text/plain": "            atak  savunma  hız       tür\nCharmander    52       43   65      ateş\nPikachu       55       40   90  elektrik\nOnix          45      160   70      kaya",
            "text/html": "<div>\n<style scoped>\n    .dataframe tbody tr th:only-of-type {\n        vertical-align: middle;\n    }\n\n    .dataframe tbody tr th {\n        vertical-align: top;\n    }\n\n    .dataframe thead th {\n        text-align: right;\n    }\n</style>\n<table border=\"1\" class=\"dataframe\">\n  <thead>\n    <tr style=\"text-align: right;\">\n      <th></th>\n      <th>atak</th>\n      <th>savunma</th>\n      <th>hız</th>\n      <th>tür</th>\n    </tr>\n  </thead>\n  <tbody>\n    <tr>\n      <th>Charmander</th>\n      <td>52</td>\n      <td>43</td>\n      <td>65</td>\n      <td>ateş</td>\n    </tr>\n    <tr>\n      <th>Pikachu</th>\n      <td>55</td>\n      <td>40</td>\n      <td>90</td>\n      <td>elektrik</td>\n    </tr>\n    <tr>\n      <th>Onix</th>\n      <td>45</td>\n      <td>160</td>\n      <td>70</td>\n      <td>kaya</td>\n    </tr>\n  </tbody>\n</table>\n</div>"
          },
          "metadata": {}
        }
      ]
    },
    {
      "cell_type": "code",
      "source": " pokemon.loc[pokemon[\"hız\"]>60,\"hız\"]",
      "metadata": {
        "trusted": true
      },
      "execution_count": 58,
      "outputs": [
        {
          "execution_count": 58,
          "output_type": "execute_result",
          "data": {
            "text/plain": "Charmander    65\nPikachu       90\nOnix          70\nName: hız, dtype: int64"
          },
          "metadata": {}
        }
      ]
    },
    {
      "cell_type": "code",
      "source": "pokemon.drop(\"Bulbasaur\")",
      "metadata": {
        "trusted": true
      },
      "execution_count": 61,
      "outputs": [
        {
          "execution_count": 61,
          "output_type": "execute_result",
          "data": {
            "text/plain": "            atak  savunma  hız       tür\nCharmander    52       43   65      ateş\nSquirtle      48       65   43        su\nPikachu       55       40   90  elektrik\nOnix          45      160   70      kaya",
            "text/html": "<div>\n<style scoped>\n    .dataframe tbody tr th:only-of-type {\n        vertical-align: middle;\n    }\n\n    .dataframe tbody tr th {\n        vertical-align: top;\n    }\n\n    .dataframe thead th {\n        text-align: right;\n    }\n</style>\n<table border=\"1\" class=\"dataframe\">\n  <thead>\n    <tr style=\"text-align: right;\">\n      <th></th>\n      <th>atak</th>\n      <th>savunma</th>\n      <th>hız</th>\n      <th>tür</th>\n    </tr>\n  </thead>\n  <tbody>\n    <tr>\n      <th>Charmander</th>\n      <td>52</td>\n      <td>43</td>\n      <td>65</td>\n      <td>ateş</td>\n    </tr>\n    <tr>\n      <th>Squirtle</th>\n      <td>48</td>\n      <td>65</td>\n      <td>43</td>\n      <td>su</td>\n    </tr>\n    <tr>\n      <th>Pikachu</th>\n      <td>55</td>\n      <td>40</td>\n      <td>90</td>\n      <td>elektrik</td>\n    </tr>\n    <tr>\n      <th>Onix</th>\n      <td>45</td>\n      <td>160</td>\n      <td>70</td>\n      <td>kaya</td>\n    </tr>\n  </tbody>\n</table>\n</div>"
          },
          "metadata": {}
        }
      ]
    },
    {
      "cell_type": "code",
      "source": "pokemon",
      "metadata": {
        "trusted": true
      },
      "execution_count": 62,
      "outputs": [
        {
          "execution_count": 62,
          "output_type": "execute_result",
          "data": {
            "text/plain": "            atak  savunma  hız       tür\nBulbasaur     49       49   45        ot\nCharmander    52       43   65      ateş\nSquirtle      48       65   43        su\nPikachu       55       40   90  elektrik\nOnix          45      160   70      kaya",
            "text/html": "<div>\n<style scoped>\n    .dataframe tbody tr th:only-of-type {\n        vertical-align: middle;\n    }\n\n    .dataframe tbody tr th {\n        vertical-align: top;\n    }\n\n    .dataframe thead th {\n        text-align: right;\n    }\n</style>\n<table border=\"1\" class=\"dataframe\">\n  <thead>\n    <tr style=\"text-align: right;\">\n      <th></th>\n      <th>atak</th>\n      <th>savunma</th>\n      <th>hız</th>\n      <th>tür</th>\n    </tr>\n  </thead>\n  <tbody>\n    <tr>\n      <th>Bulbasaur</th>\n      <td>49</td>\n      <td>49</td>\n      <td>45</td>\n      <td>ot</td>\n    </tr>\n    <tr>\n      <th>Charmander</th>\n      <td>52</td>\n      <td>43</td>\n      <td>65</td>\n      <td>ateş</td>\n    </tr>\n    <tr>\n      <th>Squirtle</th>\n      <td>48</td>\n      <td>65</td>\n      <td>43</td>\n      <td>su</td>\n    </tr>\n    <tr>\n      <th>Pikachu</th>\n      <td>55</td>\n      <td>40</td>\n      <td>90</td>\n      <td>elektrik</td>\n    </tr>\n    <tr>\n      <th>Onix</th>\n      <td>45</td>\n      <td>160</td>\n      <td>70</td>\n      <td>kaya</td>\n    </tr>\n  </tbody>\n</table>\n</div>"
          },
          "metadata": {}
        }
      ]
    },
    {
      "cell_type": "code",
      "source": "pokemon.drop([\"hız\",\"tür\"],axis = 1) # Axis 1 diyerek sütünda silinebilinmektedir",
      "metadata": {
        "trusted": true
      },
      "execution_count": 64,
      "outputs": [
        {
          "execution_count": 64,
          "output_type": "execute_result",
          "data": {
            "text/plain": "            atak  savunma\nBulbasaur     49       49\nCharmander    52       43\nSquirtle      48       65\nPikachu       55       40\nOnix          45      160",
            "text/html": "<div>\n<style scoped>\n    .dataframe tbody tr th:only-of-type {\n        vertical-align: middle;\n    }\n\n    .dataframe tbody tr th {\n        vertical-align: top;\n    }\n\n    .dataframe thead th {\n        text-align: right;\n    }\n</style>\n<table border=\"1\" class=\"dataframe\">\n  <thead>\n    <tr style=\"text-align: right;\">\n      <th></th>\n      <th>atak</th>\n      <th>savunma</th>\n    </tr>\n  </thead>\n  <tbody>\n    <tr>\n      <th>Bulbasaur</th>\n      <td>49</td>\n      <td>49</td>\n    </tr>\n    <tr>\n      <th>Charmander</th>\n      <td>52</td>\n      <td>43</td>\n    </tr>\n    <tr>\n      <th>Squirtle</th>\n      <td>48</td>\n      <td>65</td>\n    </tr>\n    <tr>\n      <th>Pikachu</th>\n      <td>55</td>\n      <td>40</td>\n    </tr>\n    <tr>\n      <th>Onix</th>\n      <td>45</td>\n      <td>160</td>\n    </tr>\n  </tbody>\n</table>\n</div>"
          },
          "metadata": {}
        }
      ]
    },
    {
      "cell_type": "code",
      "source": "pokemon[[\"atak\",\"savunma\"]] / 10",
      "metadata": {
        "trusted": true
      },
      "execution_count": 67,
      "outputs": [
        {
          "execution_count": 67,
          "output_type": "execute_result",
          "data": {
            "text/plain": "            atak  savunma\nBulbasaur    4.9      4.9\nCharmander   5.2      4.3\nSquirtle     4.8      6.5\nPikachu      5.5      4.0\nOnix         4.5     16.0",
            "text/html": "<div>\n<style scoped>\n    .dataframe tbody tr th:only-of-type {\n        vertical-align: middle;\n    }\n\n    .dataframe tbody tr th {\n        vertical-align: top;\n    }\n\n    .dataframe thead th {\n        text-align: right;\n    }\n</style>\n<table border=\"1\" class=\"dataframe\">\n  <thead>\n    <tr style=\"text-align: right;\">\n      <th></th>\n      <th>atak</th>\n      <th>savunma</th>\n    </tr>\n  </thead>\n  <tbody>\n    <tr>\n      <th>Bulbasaur</th>\n      <td>4.9</td>\n      <td>4.9</td>\n    </tr>\n    <tr>\n      <th>Charmander</th>\n      <td>5.2</td>\n      <td>4.3</td>\n    </tr>\n    <tr>\n      <th>Squirtle</th>\n      <td>4.8</td>\n      <td>6.5</td>\n    </tr>\n    <tr>\n      <th>Pikachu</th>\n      <td>5.5</td>\n      <td>4.0</td>\n    </tr>\n    <tr>\n      <th>Onix</th>\n      <td>4.5</td>\n      <td>16.0</td>\n    </tr>\n  </tbody>\n</table>\n</div>"
          },
          "metadata": {}
        }
      ]
    },
    {
      "cell_type": "code",
      "source": "pokemon[[\"atak\",\"savunma\"]] +[10,5]",
      "metadata": {
        "trusted": true
      },
      "execution_count": 69,
      "outputs": [
        {
          "execution_count": 69,
          "output_type": "execute_result",
          "data": {
            "text/plain": "            atak  savunma\nBulbasaur     59       54\nCharmander    62       48\nSquirtle      58       70\nPikachu       65       45\nOnix          55      165",
            "text/html": "<div>\n<style scoped>\n    .dataframe tbody tr th:only-of-type {\n        vertical-align: middle;\n    }\n\n    .dataframe tbody tr th {\n        vertical-align: top;\n    }\n\n    .dataframe thead th {\n        text-align: right;\n    }\n</style>\n<table border=\"1\" class=\"dataframe\">\n  <thead>\n    <tr style=\"text-align: right;\">\n      <th></th>\n      <th>atak</th>\n      <th>savunma</th>\n    </tr>\n  </thead>\n  <tbody>\n    <tr>\n      <th>Bulbasaur</th>\n      <td>59</td>\n      <td>54</td>\n    </tr>\n    <tr>\n      <th>Charmander</th>\n      <td>62</td>\n      <td>48</td>\n    </tr>\n    <tr>\n      <th>Squirtle</th>\n      <td>58</td>\n      <td>70</td>\n    </tr>\n    <tr>\n      <th>Pikachu</th>\n      <td>65</td>\n      <td>45</td>\n    </tr>\n    <tr>\n      <th>Onix</th>\n      <td>55</td>\n      <td>165</td>\n    </tr>\n  </tbody>\n</table>\n</div>"
          },
          "metadata": {}
        }
      ]
    },
    {
      "cell_type": "code",
      "source": "boylar = pd.Series(\n    [0.7, 0.6, 0.5, 0.4, 8.8],index = pokemon.index) ",
      "metadata": {
        "trusted": true
      },
      "execution_count": 89,
      "outputs": []
    },
    {
      "cell_type": "code",
      "source": "boylar",
      "metadata": {
        "trusted": true
      },
      "execution_count": 75,
      "outputs": [
        {
          "execution_count": 75,
          "output_type": "execute_result",
          "data": {
            "text/plain": "Bulbasaur     0.7\nCharmander    0.6\nSquirtle      0.5\nPikachu       0.4\nOnix          8.8\ndtype: float64"
          },
          "metadata": {}
        }
      ]
    },
    {
      "cell_type": "code",
      "source": "pokemon[\"boy\"] = boylar",
      "metadata": {
        "trusted": true
      },
      "execution_count": 90,
      "outputs": []
    },
    {
      "cell_type": "code",
      "source": "pokemon",
      "metadata": {
        "trusted": true
      },
      "execution_count": 77,
      "outputs": [
        {
          "execution_count": 77,
          "output_type": "execute_result",
          "data": {
            "text/plain": "            atak  savunma  hız       tür  boy\nBulbasaur     49       49   45        ot  0.7\nCharmander    52       43   65      ateş  0.6\nSquirtle      48       65   43        su  0.5\nPikachu       55       40   90  elektrik  0.4\nOnix          45      160   70      kaya  8.8",
            "text/html": "<div>\n<style scoped>\n    .dataframe tbody tr th:only-of-type {\n        vertical-align: middle;\n    }\n\n    .dataframe tbody tr th {\n        vertical-align: top;\n    }\n\n    .dataframe thead th {\n        text-align: right;\n    }\n</style>\n<table border=\"1\" class=\"dataframe\">\n  <thead>\n    <tr style=\"text-align: right;\">\n      <th></th>\n      <th>atak</th>\n      <th>savunma</th>\n      <th>hız</th>\n      <th>tür</th>\n      <th>boy</th>\n    </tr>\n  </thead>\n  <tbody>\n    <tr>\n      <th>Bulbasaur</th>\n      <td>49</td>\n      <td>49</td>\n      <td>45</td>\n      <td>ot</td>\n      <td>0.7</td>\n    </tr>\n    <tr>\n      <th>Charmander</th>\n      <td>52</td>\n      <td>43</td>\n      <td>65</td>\n      <td>ateş</td>\n      <td>0.6</td>\n    </tr>\n    <tr>\n      <th>Squirtle</th>\n      <td>48</td>\n      <td>65</td>\n      <td>43</td>\n      <td>su</td>\n      <td>0.5</td>\n    </tr>\n    <tr>\n      <th>Pikachu</th>\n      <td>55</td>\n      <td>40</td>\n      <td>90</td>\n      <td>elektrik</td>\n      <td>0.4</td>\n    </tr>\n    <tr>\n      <th>Onix</th>\n      <td>45</td>\n      <td>160</td>\n      <td>70</td>\n      <td>kaya</td>\n      <td>8.8</td>\n    </tr>\n  </tbody>\n</table>\n</div>"
          },
          "metadata": {}
        }
      ]
    },
    {
      "cell_type": "code",
      "source": "pokemon[pokemon[\"boy\"] < 1] = 1 ",
      "metadata": {
        "trusted": true
      },
      "execution_count": 78,
      "outputs": []
    },
    {
      "cell_type": "code",
      "source": "pokemon",
      "metadata": {
        "trusted": true
      },
      "execution_count": 79,
      "outputs": [
        {
          "execution_count": 79,
          "output_type": "execute_result",
          "data": {
            "text/plain": "            atak  savunma  hız   tür  boy\nBulbasaur      1        1    1     1  1.0\nCharmander     1        1    1     1  1.0\nSquirtle       1        1    1     1  1.0\nPikachu        1        1    1     1  1.0\nOnix          45      160   70  kaya  8.8",
            "text/html": "<div>\n<style scoped>\n    .dataframe tbody tr th:only-of-type {\n        vertical-align: middle;\n    }\n\n    .dataframe tbody tr th {\n        vertical-align: top;\n    }\n\n    .dataframe thead th {\n        text-align: right;\n    }\n</style>\n<table border=\"1\" class=\"dataframe\">\n  <thead>\n    <tr style=\"text-align: right;\">\n      <th></th>\n      <th>atak</th>\n      <th>savunma</th>\n      <th>hız</th>\n      <th>tür</th>\n      <th>boy</th>\n    </tr>\n  </thead>\n  <tbody>\n    <tr>\n      <th>Bulbasaur</th>\n      <td>1</td>\n      <td>1</td>\n      <td>1</td>\n      <td>1</td>\n      <td>1.0</td>\n    </tr>\n    <tr>\n      <th>Charmander</th>\n      <td>1</td>\n      <td>1</td>\n      <td>1</td>\n      <td>1</td>\n      <td>1.0</td>\n    </tr>\n    <tr>\n      <th>Squirtle</th>\n      <td>1</td>\n      <td>1</td>\n      <td>1</td>\n      <td>1</td>\n      <td>1.0</td>\n    </tr>\n    <tr>\n      <th>Pikachu</th>\n      <td>1</td>\n      <td>1</td>\n      <td>1</td>\n      <td>1</td>\n      <td>1.0</td>\n    </tr>\n    <tr>\n      <th>Onix</th>\n      <td>45</td>\n      <td>160</td>\n      <td>70</td>\n      <td>kaya</td>\n      <td>8.8</td>\n    </tr>\n  </tbody>\n</table>\n</div>"
          },
          "metadata": {}
        }
      ]
    },
    {
      "cell_type": "code",
      "source": "pokemon.rename(\n    columns={\n        \"atak\": \"attack\",\n        \"savunma\": \"defense\",\n        \"tür\": \"type\",\n        \"hız\": \"speed\",\n        \"boy\": \"height\"\n    }\n)",
      "metadata": {
        "trusted": true
      },
      "execution_count": 80,
      "outputs": [
        {
          "execution_count": 80,
          "output_type": "execute_result",
          "data": {
            "text/plain": "            attack  defense  speed  type  height\nBulbasaur        1        1      1     1     1.0\nCharmander       1        1      1     1     1.0\nSquirtle         1        1      1     1     1.0\nPikachu          1        1      1     1     1.0\nOnix            45      160     70  kaya     8.8",
            "text/html": "<div>\n<style scoped>\n    .dataframe tbody tr th:only-of-type {\n        vertical-align: middle;\n    }\n\n    .dataframe tbody tr th {\n        vertical-align: top;\n    }\n\n    .dataframe thead th {\n        text-align: right;\n    }\n</style>\n<table border=\"1\" class=\"dataframe\">\n  <thead>\n    <tr style=\"text-align: right;\">\n      <th></th>\n      <th>attack</th>\n      <th>defense</th>\n      <th>speed</th>\n      <th>type</th>\n      <th>height</th>\n    </tr>\n  </thead>\n  <tbody>\n    <tr>\n      <th>Bulbasaur</th>\n      <td>1</td>\n      <td>1</td>\n      <td>1</td>\n      <td>1</td>\n      <td>1.0</td>\n    </tr>\n    <tr>\n      <th>Charmander</th>\n      <td>1</td>\n      <td>1</td>\n      <td>1</td>\n      <td>1</td>\n      <td>1.0</td>\n    </tr>\n    <tr>\n      <th>Squirtle</th>\n      <td>1</td>\n      <td>1</td>\n      <td>1</td>\n      <td>1</td>\n      <td>1.0</td>\n    </tr>\n    <tr>\n      <th>Pikachu</th>\n      <td>1</td>\n      <td>1</td>\n      <td>1</td>\n      <td>1</td>\n      <td>1.0</td>\n    </tr>\n    <tr>\n      <th>Onix</th>\n      <td>45</td>\n      <td>160</td>\n      <td>70</td>\n      <td>kaya</td>\n      <td>8.8</td>\n    </tr>\n  </tbody>\n</table>\n</div>"
          },
          "metadata": {}
        }
      ]
    },
    {
      "cell_type": "code",
      "source": "# Pandas 3",
      "metadata": {
        "trusted": true
      },
      "execution_count": 81,
      "outputs": []
    },
    {
      "cell_type": "code",
      "source": "pokemon.append(pd.Series({\n    \"atak\": 104,\n    \"savunma\": 78,\n    \"tür\": \"ateş\",\n    \"hız\": 100,\n    \"boy\": 1.7\n}, name=\"Charizard\")) # Yeni bir veri ekleme",
      "metadata": {
        "trusted": true
      },
      "execution_count": 88,
      "outputs": [
        {
          "name": "stderr",
          "text": "<ipython-input-88-eaddc6b45a9c>:1: FutureWarning: The frame.append method is deprecated and will be removed from pandas in a future version. Use pandas.concat instead.\n  pokemon.append(pd.Series({\n",
          "output_type": "stream"
        },
        {
          "execution_count": 88,
          "output_type": "execute_result",
          "data": {
            "text/plain": "            atak  savunma  hız       tür  boy\nBulbasaur     49       49   45        ot  NaN\nCharmander    52       43   65      ateş  NaN\nSquirtle      48       65   43        su  NaN\nPikachu       55       40   90  elektrik  NaN\nOnix          45      160   70      kaya  NaN\nCharizard    104       78  100      ateş  1.7",
            "text/html": "<div>\n<style scoped>\n    .dataframe tbody tr th:only-of-type {\n        vertical-align: middle;\n    }\n\n    .dataframe tbody tr th {\n        vertical-align: top;\n    }\n\n    .dataframe thead th {\n        text-align: right;\n    }\n</style>\n<table border=\"1\" class=\"dataframe\">\n  <thead>\n    <tr style=\"text-align: right;\">\n      <th></th>\n      <th>atak</th>\n      <th>savunma</th>\n      <th>hız</th>\n      <th>tür</th>\n      <th>boy</th>\n    </tr>\n  </thead>\n  <tbody>\n    <tr>\n      <th>Bulbasaur</th>\n      <td>49</td>\n      <td>49</td>\n      <td>45</td>\n      <td>ot</td>\n      <td>NaN</td>\n    </tr>\n    <tr>\n      <th>Charmander</th>\n      <td>52</td>\n      <td>43</td>\n      <td>65</td>\n      <td>ateş</td>\n      <td>NaN</td>\n    </tr>\n    <tr>\n      <th>Squirtle</th>\n      <td>48</td>\n      <td>65</td>\n      <td>43</td>\n      <td>su</td>\n      <td>NaN</td>\n    </tr>\n    <tr>\n      <th>Pikachu</th>\n      <td>55</td>\n      <td>40</td>\n      <td>90</td>\n      <td>elektrik</td>\n      <td>NaN</td>\n    </tr>\n    <tr>\n      <th>Onix</th>\n      <td>45</td>\n      <td>160</td>\n      <td>70</td>\n      <td>kaya</td>\n      <td>NaN</td>\n    </tr>\n    <tr>\n      <th>Charizard</th>\n      <td>104</td>\n      <td>78</td>\n      <td>100</td>\n      <td>ateş</td>\n      <td>1.7</td>\n    </tr>\n  </tbody>\n</table>\n</div>"
          },
          "metadata": {}
        }
      ]
    },
    {
      "cell_type": "code",
      "source": "pokemon[\"toplam güç\"] = pokemon[\"atak\"] + pokemon[\"savunma\"] + pokemon[\"hız\"] # Yeni bir sütün oluşturma",
      "metadata": {
        "trusted": true
      },
      "execution_count": 92,
      "outputs": []
    },
    {
      "cell_type": "code",
      "source": "pokemon",
      "metadata": {
        "trusted": true
      },
      "execution_count": 93,
      "outputs": [
        {
          "execution_count": 93,
          "output_type": "execute_result",
          "data": {
            "text/plain": "            atak  savunma  hız       tür  boy  toplam güç\nBulbasaur     49       49   45        ot  0.7         143\nCharmander    52       43   65      ateş  0.6         160\nSquirtle      48       65   43        su  0.5         156\nPikachu       55       40   90  elektrik  0.4         185\nOnix          45      160   70      kaya  8.8         275",
            "text/html": "<div>\n<style scoped>\n    .dataframe tbody tr th:only-of-type {\n        vertical-align: middle;\n    }\n\n    .dataframe tbody tr th {\n        vertical-align: top;\n    }\n\n    .dataframe thead th {\n        text-align: right;\n    }\n</style>\n<table border=\"1\" class=\"dataframe\">\n  <thead>\n    <tr style=\"text-align: right;\">\n      <th></th>\n      <th>atak</th>\n      <th>savunma</th>\n      <th>hız</th>\n      <th>tür</th>\n      <th>boy</th>\n      <th>toplam güç</th>\n    </tr>\n  </thead>\n  <tbody>\n    <tr>\n      <th>Bulbasaur</th>\n      <td>49</td>\n      <td>49</td>\n      <td>45</td>\n      <td>ot</td>\n      <td>0.7</td>\n      <td>143</td>\n    </tr>\n    <tr>\n      <th>Charmander</th>\n      <td>52</td>\n      <td>43</td>\n      <td>65</td>\n      <td>ateş</td>\n      <td>0.6</td>\n      <td>160</td>\n    </tr>\n    <tr>\n      <th>Squirtle</th>\n      <td>48</td>\n      <td>65</td>\n      <td>43</td>\n      <td>su</td>\n      <td>0.5</td>\n      <td>156</td>\n    </tr>\n    <tr>\n      <th>Pikachu</th>\n      <td>55</td>\n      <td>40</td>\n      <td>90</td>\n      <td>elektrik</td>\n      <td>0.4</td>\n      <td>185</td>\n    </tr>\n    <tr>\n      <th>Onix</th>\n      <td>45</td>\n      <td>160</td>\n      <td>70</td>\n      <td>kaya</td>\n      <td>8.8</td>\n      <td>275</td>\n    </tr>\n  </tbody>\n</table>\n</div>"
          },
          "metadata": {}
        }
      ]
    },
    {
      "cell_type": "code",
      "source": "pokemon[\"Saldırganlık\"] = pokemon[\"savunma\"] / pokemon[\"atak\"]",
      "metadata": {
        "trusted": true
      },
      "execution_count": 94,
      "outputs": []
    },
    {
      "cell_type": "code",
      "source": "pokemon",
      "metadata": {
        "trusted": true
      },
      "execution_count": 95,
      "outputs": [
        {
          "execution_count": 95,
          "output_type": "execute_result",
          "data": {
            "text/plain": "            atak  savunma  hız       tür  boy  toplam güç  Saldırganlık\nBulbasaur     49       49   45        ot  0.7         143      1.000000\nCharmander    52       43   65      ateş  0.6         160      0.826923\nSquirtle      48       65   43        su  0.5         156      1.354167\nPikachu       55       40   90  elektrik  0.4         185      0.727273\nOnix          45      160   70      kaya  8.8         275      3.555556",
            "text/html": "<div>\n<style scoped>\n    .dataframe tbody tr th:only-of-type {\n        vertical-align: middle;\n    }\n\n    .dataframe tbody tr th {\n        vertical-align: top;\n    }\n\n    .dataframe thead th {\n        text-align: right;\n    }\n</style>\n<table border=\"1\" class=\"dataframe\">\n  <thead>\n    <tr style=\"text-align: right;\">\n      <th></th>\n      <th>atak</th>\n      <th>savunma</th>\n      <th>hız</th>\n      <th>tür</th>\n      <th>boy</th>\n      <th>toplam güç</th>\n      <th>Saldırganlık</th>\n    </tr>\n  </thead>\n  <tbody>\n    <tr>\n      <th>Bulbasaur</th>\n      <td>49</td>\n      <td>49</td>\n      <td>45</td>\n      <td>ot</td>\n      <td>0.7</td>\n      <td>143</td>\n      <td>1.000000</td>\n    </tr>\n    <tr>\n      <th>Charmander</th>\n      <td>52</td>\n      <td>43</td>\n      <td>65</td>\n      <td>ateş</td>\n      <td>0.6</td>\n      <td>160</td>\n      <td>0.826923</td>\n    </tr>\n    <tr>\n      <th>Squirtle</th>\n      <td>48</td>\n      <td>65</td>\n      <td>43</td>\n      <td>su</td>\n      <td>0.5</td>\n      <td>156</td>\n      <td>1.354167</td>\n    </tr>\n    <tr>\n      <th>Pikachu</th>\n      <td>55</td>\n      <td>40</td>\n      <td>90</td>\n      <td>elektrik</td>\n      <td>0.4</td>\n      <td>185</td>\n      <td>0.727273</td>\n    </tr>\n    <tr>\n      <th>Onix</th>\n      <td>45</td>\n      <td>160</td>\n      <td>70</td>\n      <td>kaya</td>\n      <td>8.8</td>\n      <td>275</td>\n      <td>3.555556</td>\n    </tr>\n  </tbody>\n</table>\n</div>"
          },
          "metadata": {}
        }
      ]
    },
    {
      "cell_type": "code",
      "source": "df = pd.read_csv(\"btc-market-price.csv\")",
      "metadata": {
        "trusted": true
      },
      "execution_count": 97,
      "outputs": [
        {
          "ename": "<class 'FileNotFoundError'>",
          "evalue": "[Errno 44] No such file or directory: 'btc-market-price.csv'",
          "traceback": [
            "\u001b[0;31m---------------------------------------------------------------------------\u001b[0m",
            "\u001b[0;31mFileNotFoundError\u001b[0m                         Traceback (most recent call last)",
            "Cell \u001b[0;32mIn[97], line 1\u001b[0m\n\u001b[0;32m----> 1\u001b[0m df \u001b[38;5;241m=\u001b[39m \u001b[43mpd\u001b[49m\u001b[38;5;241;43m.\u001b[39;49m\u001b[43mread_csv\u001b[49m\u001b[43m(\u001b[49m\u001b[38;5;124;43m\"\u001b[39;49m\u001b[38;5;124;43mbtc-market-price.csv\u001b[39;49m\u001b[38;5;124;43m\"\u001b[39;49m\u001b[43m)\u001b[49m\n",
            "File \u001b[0;32m/lib/python3.10/site-packages/pandas/util/_decorators.py:311\u001b[0m, in \u001b[0;36mdeprecate_nonkeyword_arguments.<locals>.decorate.<locals>.wrapper\u001b[0;34m(*args, **kwargs)\u001b[0m\n\u001b[1;32m    305\u001b[0m \u001b[38;5;28;01mif\u001b[39;00m \u001b[38;5;28mlen\u001b[39m(args) \u001b[38;5;241m>\u001b[39m num_allow_args:\n\u001b[1;32m    306\u001b[0m     warnings\u001b[38;5;241m.\u001b[39mwarn(\n\u001b[1;32m    307\u001b[0m         msg\u001b[38;5;241m.\u001b[39mformat(arguments\u001b[38;5;241m=\u001b[39marguments),\n\u001b[1;32m    308\u001b[0m         \u001b[38;5;167;01mFutureWarning\u001b[39;00m,\n\u001b[1;32m    309\u001b[0m         stacklevel\u001b[38;5;241m=\u001b[39mstacklevel,\n\u001b[1;32m    310\u001b[0m     )\n\u001b[0;32m--> 311\u001b[0m \u001b[38;5;28;01mreturn\u001b[39;00m func(\u001b[38;5;241m*\u001b[39margs, \u001b[38;5;241m*\u001b[39m\u001b[38;5;241m*\u001b[39mkwargs)\n",
            "File \u001b[0;32m/lib/python3.10/site-packages/pandas/io/parsers/readers.py:680\u001b[0m, in \u001b[0;36mread_csv\u001b[0;34m(filepath_or_buffer, sep, delimiter, header, names, index_col, usecols, squeeze, prefix, mangle_dupe_cols, dtype, engine, converters, true_values, false_values, skipinitialspace, skiprows, skipfooter, nrows, na_values, keep_default_na, na_filter, verbose, skip_blank_lines, parse_dates, infer_datetime_format, keep_date_col, date_parser, dayfirst, cache_dates, iterator, chunksize, compression, thousands, decimal, lineterminator, quotechar, quoting, doublequote, escapechar, comment, encoding, encoding_errors, dialect, error_bad_lines, warn_bad_lines, on_bad_lines, delim_whitespace, low_memory, memory_map, float_precision, storage_options)\u001b[0m\n\u001b[1;32m    665\u001b[0m kwds_defaults \u001b[38;5;241m=\u001b[39m _refine_defaults_read(\n\u001b[1;32m    666\u001b[0m     dialect,\n\u001b[1;32m    667\u001b[0m     delimiter,\n\u001b[0;32m   (...)\u001b[0m\n\u001b[1;32m    676\u001b[0m     defaults\u001b[38;5;241m=\u001b[39m{\u001b[38;5;124m\"\u001b[39m\u001b[38;5;124mdelimiter\u001b[39m\u001b[38;5;124m\"\u001b[39m: \u001b[38;5;124m\"\u001b[39m\u001b[38;5;124m,\u001b[39m\u001b[38;5;124m\"\u001b[39m},\n\u001b[1;32m    677\u001b[0m )\n\u001b[1;32m    678\u001b[0m kwds\u001b[38;5;241m.\u001b[39mupdate(kwds_defaults)\n\u001b[0;32m--> 680\u001b[0m \u001b[38;5;28;01mreturn\u001b[39;00m \u001b[43m_read\u001b[49m\u001b[43m(\u001b[49m\u001b[43mfilepath_or_buffer\u001b[49m\u001b[43m,\u001b[49m\u001b[43m \u001b[49m\u001b[43mkwds\u001b[49m\u001b[43m)\u001b[49m\n",
            "File \u001b[0;32m/lib/python3.10/site-packages/pandas/io/parsers/readers.py:575\u001b[0m, in \u001b[0;36m_read\u001b[0;34m(filepath_or_buffer, kwds)\u001b[0m\n\u001b[1;32m    572\u001b[0m _validate_names(kwds\u001b[38;5;241m.\u001b[39mget(\u001b[38;5;124m\"\u001b[39m\u001b[38;5;124mnames\u001b[39m\u001b[38;5;124m\"\u001b[39m, \u001b[38;5;28;01mNone\u001b[39;00m))\n\u001b[1;32m    574\u001b[0m \u001b[38;5;66;03m# Create the parser.\u001b[39;00m\n\u001b[0;32m--> 575\u001b[0m parser \u001b[38;5;241m=\u001b[39m TextFileReader(filepath_or_buffer, \u001b[38;5;241m*\u001b[39m\u001b[38;5;241m*\u001b[39mkwds)\n\u001b[1;32m    577\u001b[0m \u001b[38;5;28;01mif\u001b[39;00m chunksize \u001b[38;5;129;01mor\u001b[39;00m iterator:\n\u001b[1;32m    578\u001b[0m     \u001b[38;5;28;01mreturn\u001b[39;00m parser\n",
            "File \u001b[0;32m/lib/python3.10/site-packages/pandas/io/parsers/readers.py:933\u001b[0m, in \u001b[0;36mTextFileReader.__init__\u001b[0;34m(self, f, engine, **kwds)\u001b[0m\n\u001b[1;32m    930\u001b[0m     \u001b[38;5;28mself\u001b[39m\u001b[38;5;241m.\u001b[39moptions[\u001b[38;5;124m\"\u001b[39m\u001b[38;5;124mhas_index_names\u001b[39m\u001b[38;5;124m\"\u001b[39m] \u001b[38;5;241m=\u001b[39m kwds[\u001b[38;5;124m\"\u001b[39m\u001b[38;5;124mhas_index_names\u001b[39m\u001b[38;5;124m\"\u001b[39m]\n\u001b[1;32m    932\u001b[0m \u001b[38;5;28mself\u001b[39m\u001b[38;5;241m.\u001b[39mhandles: IOHandles \u001b[38;5;241m|\u001b[39m \u001b[38;5;28;01mNone\u001b[39;00m \u001b[38;5;241m=\u001b[39m \u001b[38;5;28;01mNone\u001b[39;00m\n\u001b[0;32m--> 933\u001b[0m \u001b[38;5;28mself\u001b[39m\u001b[38;5;241m.\u001b[39m_engine \u001b[38;5;241m=\u001b[39m \u001b[38;5;28;43mself\u001b[39;49m\u001b[38;5;241;43m.\u001b[39;49m\u001b[43m_make_engine\u001b[49m\u001b[43m(\u001b[49m\u001b[43mf\u001b[49m\u001b[43m,\u001b[49m\u001b[43m \u001b[49m\u001b[38;5;28;43mself\u001b[39;49m\u001b[38;5;241;43m.\u001b[39;49m\u001b[43mengine\u001b[49m\u001b[43m)\u001b[49m\n",
            "File \u001b[0;32m/lib/python3.10/site-packages/pandas/io/parsers/readers.py:1217\u001b[0m, in \u001b[0;36mTextFileReader._make_engine\u001b[0;34m(self, f, engine)\u001b[0m\n\u001b[1;32m   1213\u001b[0m     mode \u001b[38;5;241m=\u001b[39m \u001b[38;5;124m\"\u001b[39m\u001b[38;5;124mrb\u001b[39m\u001b[38;5;124m\"\u001b[39m\n\u001b[1;32m   1214\u001b[0m \u001b[38;5;66;03m# error: No overload variant of \"get_handle\" matches argument types\u001b[39;00m\n\u001b[1;32m   1215\u001b[0m \u001b[38;5;66;03m# \"Union[str, PathLike[str], ReadCsvBuffer[bytes], ReadCsvBuffer[str]]\"\u001b[39;00m\n\u001b[1;32m   1216\u001b[0m \u001b[38;5;66;03m# , \"str\", \"bool\", \"Any\", \"Any\", \"Any\", \"Any\", \"Any\"\u001b[39;00m\n\u001b[0;32m-> 1217\u001b[0m \u001b[38;5;28mself\u001b[39m\u001b[38;5;241m.\u001b[39mhandles \u001b[38;5;241m=\u001b[39m \u001b[43mget_handle\u001b[49m\u001b[43m(\u001b[49m\u001b[43m  \u001b[49m\u001b[38;5;66;43;03m# type: ignore[call-overload]\u001b[39;49;00m\n\u001b[1;32m   1218\u001b[0m \u001b[43m    \u001b[49m\u001b[43mf\u001b[49m\u001b[43m,\u001b[49m\n\u001b[1;32m   1219\u001b[0m \u001b[43m    \u001b[49m\u001b[43mmode\u001b[49m\u001b[43m,\u001b[49m\n\u001b[1;32m   1220\u001b[0m \u001b[43m    \u001b[49m\u001b[43mencoding\u001b[49m\u001b[38;5;241;43m=\u001b[39;49m\u001b[38;5;28;43mself\u001b[39;49m\u001b[38;5;241;43m.\u001b[39;49m\u001b[43moptions\u001b[49m\u001b[38;5;241;43m.\u001b[39;49m\u001b[43mget\u001b[49m\u001b[43m(\u001b[49m\u001b[38;5;124;43m\"\u001b[39;49m\u001b[38;5;124;43mencoding\u001b[39;49m\u001b[38;5;124;43m\"\u001b[39;49m\u001b[43m,\u001b[49m\u001b[43m \u001b[49m\u001b[38;5;28;43;01mNone\u001b[39;49;00m\u001b[43m)\u001b[49m\u001b[43m,\u001b[49m\n\u001b[1;32m   1221\u001b[0m \u001b[43m    \u001b[49m\u001b[43mcompression\u001b[49m\u001b[38;5;241;43m=\u001b[39;49m\u001b[38;5;28;43mself\u001b[39;49m\u001b[38;5;241;43m.\u001b[39;49m\u001b[43moptions\u001b[49m\u001b[38;5;241;43m.\u001b[39;49m\u001b[43mget\u001b[49m\u001b[43m(\u001b[49m\u001b[38;5;124;43m\"\u001b[39;49m\u001b[38;5;124;43mcompression\u001b[39;49m\u001b[38;5;124;43m\"\u001b[39;49m\u001b[43m,\u001b[49m\u001b[43m \u001b[49m\u001b[38;5;28;43;01mNone\u001b[39;49;00m\u001b[43m)\u001b[49m\u001b[43m,\u001b[49m\n\u001b[1;32m   1222\u001b[0m \u001b[43m    \u001b[49m\u001b[43mmemory_map\u001b[49m\u001b[38;5;241;43m=\u001b[39;49m\u001b[38;5;28;43mself\u001b[39;49m\u001b[38;5;241;43m.\u001b[39;49m\u001b[43moptions\u001b[49m\u001b[38;5;241;43m.\u001b[39;49m\u001b[43mget\u001b[49m\u001b[43m(\u001b[49m\u001b[38;5;124;43m\"\u001b[39;49m\u001b[38;5;124;43mmemory_map\u001b[39;49m\u001b[38;5;124;43m\"\u001b[39;49m\u001b[43m,\u001b[49m\u001b[43m \u001b[49m\u001b[38;5;28;43;01mFalse\u001b[39;49;00m\u001b[43m)\u001b[49m\u001b[43m,\u001b[49m\n\u001b[1;32m   1223\u001b[0m \u001b[43m    \u001b[49m\u001b[43mis_text\u001b[49m\u001b[38;5;241;43m=\u001b[39;49m\u001b[43mis_text\u001b[49m\u001b[43m,\u001b[49m\n\u001b[1;32m   1224\u001b[0m \u001b[43m    \u001b[49m\u001b[43merrors\u001b[49m\u001b[38;5;241;43m=\u001b[39;49m\u001b[38;5;28;43mself\u001b[39;49m\u001b[38;5;241;43m.\u001b[39;49m\u001b[43moptions\u001b[49m\u001b[38;5;241;43m.\u001b[39;49m\u001b[43mget\u001b[49m\u001b[43m(\u001b[49m\u001b[38;5;124;43m\"\u001b[39;49m\u001b[38;5;124;43mencoding_errors\u001b[39;49m\u001b[38;5;124;43m\"\u001b[39;49m\u001b[43m,\u001b[49m\u001b[43m \u001b[49m\u001b[38;5;124;43m\"\u001b[39;49m\u001b[38;5;124;43mstrict\u001b[39;49m\u001b[38;5;124;43m\"\u001b[39;49m\u001b[43m)\u001b[49m\u001b[43m,\u001b[49m\n\u001b[1;32m   1225\u001b[0m \u001b[43m    \u001b[49m\u001b[43mstorage_options\u001b[49m\u001b[38;5;241;43m=\u001b[39;49m\u001b[38;5;28;43mself\u001b[39;49m\u001b[38;5;241;43m.\u001b[39;49m\u001b[43moptions\u001b[49m\u001b[38;5;241;43m.\u001b[39;49m\u001b[43mget\u001b[49m\u001b[43m(\u001b[49m\u001b[38;5;124;43m\"\u001b[39;49m\u001b[38;5;124;43mstorage_options\u001b[39;49m\u001b[38;5;124;43m\"\u001b[39;49m\u001b[43m,\u001b[49m\u001b[43m \u001b[49m\u001b[38;5;28;43;01mNone\u001b[39;49;00m\u001b[43m)\u001b[49m\u001b[43m,\u001b[49m\n\u001b[1;32m   1226\u001b[0m \u001b[43m\u001b[49m\u001b[43m)\u001b[49m\n\u001b[1;32m   1227\u001b[0m \u001b[38;5;28;01massert\u001b[39;00m \u001b[38;5;28mself\u001b[39m\u001b[38;5;241m.\u001b[39mhandles \u001b[38;5;129;01mis\u001b[39;00m \u001b[38;5;129;01mnot\u001b[39;00m \u001b[38;5;28;01mNone\u001b[39;00m\n\u001b[1;32m   1228\u001b[0m f \u001b[38;5;241m=\u001b[39m \u001b[38;5;28mself\u001b[39m\u001b[38;5;241m.\u001b[39mhandles\u001b[38;5;241m.\u001b[39mhandle\n",
            "File \u001b[0;32m/lib/python3.10/site-packages/pandas/io/common.py:789\u001b[0m, in \u001b[0;36mget_handle\u001b[0;34m(path_or_buf, mode, encoding, compression, memory_map, is_text, errors, storage_options)\u001b[0m\n\u001b[1;32m    784\u001b[0m \u001b[38;5;28;01melif\u001b[39;00m \u001b[38;5;28misinstance\u001b[39m(handle, \u001b[38;5;28mstr\u001b[39m):\n\u001b[1;32m    785\u001b[0m     \u001b[38;5;66;03m# Check whether the filename is to be opened in binary mode.\u001b[39;00m\n\u001b[1;32m    786\u001b[0m     \u001b[38;5;66;03m# Binary mode does not support 'encoding' and 'newline'.\u001b[39;00m\n\u001b[1;32m    787\u001b[0m     \u001b[38;5;28;01mif\u001b[39;00m ioargs\u001b[38;5;241m.\u001b[39mencoding \u001b[38;5;129;01mand\u001b[39;00m \u001b[38;5;124m\"\u001b[39m\u001b[38;5;124mb\u001b[39m\u001b[38;5;124m\"\u001b[39m \u001b[38;5;129;01mnot\u001b[39;00m \u001b[38;5;129;01min\u001b[39;00m ioargs\u001b[38;5;241m.\u001b[39mmode:\n\u001b[1;32m    788\u001b[0m         \u001b[38;5;66;03m# Encoding\u001b[39;00m\n\u001b[0;32m--> 789\u001b[0m         handle \u001b[38;5;241m=\u001b[39m \u001b[38;5;28;43mopen\u001b[39;49m\u001b[43m(\u001b[49m\n\u001b[1;32m    790\u001b[0m \u001b[43m            \u001b[49m\u001b[43mhandle\u001b[49m\u001b[43m,\u001b[49m\n\u001b[1;32m    791\u001b[0m \u001b[43m            \u001b[49m\u001b[43mioargs\u001b[49m\u001b[38;5;241;43m.\u001b[39;49m\u001b[43mmode\u001b[49m\u001b[43m,\u001b[49m\n\u001b[1;32m    792\u001b[0m \u001b[43m            \u001b[49m\u001b[43mencoding\u001b[49m\u001b[38;5;241;43m=\u001b[39;49m\u001b[43mioargs\u001b[49m\u001b[38;5;241;43m.\u001b[39;49m\u001b[43mencoding\u001b[49m\u001b[43m,\u001b[49m\n\u001b[1;32m    793\u001b[0m \u001b[43m            \u001b[49m\u001b[43merrors\u001b[49m\u001b[38;5;241;43m=\u001b[39;49m\u001b[43merrors\u001b[49m\u001b[43m,\u001b[49m\n\u001b[1;32m    794\u001b[0m \u001b[43m            \u001b[49m\u001b[43mnewline\u001b[49m\u001b[38;5;241;43m=\u001b[39;49m\u001b[38;5;124;43m\"\u001b[39;49m\u001b[38;5;124;43m\"\u001b[39;49m\u001b[43m,\u001b[49m\n\u001b[1;32m    795\u001b[0m \u001b[43m        \u001b[49m\u001b[43m)\u001b[49m\n\u001b[1;32m    796\u001b[0m     \u001b[38;5;28;01melse\u001b[39;00m:\n\u001b[1;32m    797\u001b[0m         \u001b[38;5;66;03m# Binary mode\u001b[39;00m\n\u001b[1;32m    798\u001b[0m         handle \u001b[38;5;241m=\u001b[39m \u001b[38;5;28mopen\u001b[39m(handle, ioargs\u001b[38;5;241m.\u001b[39mmode)\n",
            "\u001b[0;31mFileNotFoundError\u001b[0m: [Errno 44] No such file or directory: 'btc-market-price.csv'"
          ],
          "output_type": "error"
        }
      ]
    },
    {
      "cell_type": "code",
      "source": "",
      "metadata": {},
      "execution_count": null,
      "outputs": []
    }
  ]
}