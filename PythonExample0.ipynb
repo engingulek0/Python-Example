{
  "metadata": {
    "language_info": {
      "codemirror_mode": {
        "name": "python",
        "version": 3
      },
      "file_extension": ".py",
      "mimetype": "text/x-python",
      "name": "python",
      "nbconvert_exporter": "python",
      "pygments_lexer": "ipython3",
      "version": "3.8"
    },
    "kernelspec": {
      "name": "python",
      "display_name": "Python (Pyodide)",
      "language": "python"
    }
  },
  "nbformat_minor": 4,
  "nbformat": 4,
  "cells": [
    {
      "cell_type": "code",
      "source": "def multi(*numbers):\n    res = 1\n    for i in numbers:\n        res*=i\n    return res\n\nprint(multi(1,2,3,4))",
      "metadata": {
        "trusted": true
      },
      "execution_count": 3,
      "outputs": [
        {
          "name": "stdout",
          "text": "24\n",
          "output_type": "stream"
        }
      ]
    },
    {
      "cell_type": "code",
      "source": "def students(**list):\n    for i in list:\n        print(list[i])\nstudents(name=\"Engin\",surname=\"Gülek\")",
      "metadata": {
        "trusted": true
      },
      "execution_count": 6,
      "outputs": [
        {
          "name": "stdout",
          "text": "Engin\nGülek\n",
          "output_type": "stream"
        }
      ]
    },
    {
      "cell_type": "code",
      "source": "l1 = [2,3]\nl2 = [4,5]\nlist = [*l1,*l2]\nlist",
      "metadata": {
        "trusted": true
      },
      "execution_count": 7,
      "outputs": [
        {
          "execution_count": 7,
          "output_type": "execute_result",
          "data": {
            "text/plain": "[2, 3, 4, 5]"
          },
          "metadata": {}
        }
      ]
    },
    {
      "cell_type": "code",
      "source": "sub_info1 = {\"name\" : \"Engin\",\"surname\" : \"Gülek\"}\nsub_info = {\"age\" : 23 , \"gender\" : \"man\"}\n\ninfo = {**sub_info1,**sub_info}\ninfo",
      "metadata": {
        "trusted": true
      },
      "execution_count": 14,
      "outputs": [
        {
          "execution_count": 14,
          "output_type": "execute_result",
          "data": {
            "text/plain": "{'name': 'Engin', 'surname': 'Gülek', 'age': 23, 'gender': 'man'}"
          },
          "metadata": {}
        }
      ]
    },
    {
      "cell_type": "code",
      "source": "",
      "metadata": {},
      "execution_count": null,
      "outputs": []
    }
  ]
}